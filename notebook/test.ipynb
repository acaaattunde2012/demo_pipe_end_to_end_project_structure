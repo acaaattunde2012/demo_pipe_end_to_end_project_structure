{
 "cells": [
  {
   "cell_type": "code",
   "execution_count": null,
   "metadata": {},
   "outputs": [
    {
     "ename": "",
     "evalue": "",
     "output_type": "error",
     "traceback": [
      "\u001b[1;31mRunning cells with 'c:\\Users\\Tunde\\Desktop\\Python_Pratctise\\demo_pipe\\venv\\python.exe' requires ipykernel package.\n",
      "\u001b[1;31mRun the following command to install 'ipykernel' into the Python environment. \n",
      "\u001b[1;31mCommand: 'conda install -p c:\\Users\\Tunde\\Desktop\\Python_Pratctise\\demo_pipe\\venv ipykernel --update-deps --force-reinstall'"
     ]
    }
   ],
   "source": [
    "2+3"
   ]
  }
 ],
 "metadata": {
  "kernelspec": {
   "display_name": "Python 3",
   "language": "python",
   "name": "python3"
  },
  "language_info": {
   "name": "python",
   "version": "3.8.16 (default, Mar  2 2023, 03:18:16) [MSC v.1916 64 bit (AMD64)]"
  },
  "orig_nbformat": 4,
  "vscode": {
   "interpreter": {
    "hash": "509f50c2b5c7741a154cb4836803e0ea2522e24067317e6576b13ceeae493c08"
   }
  }
 },
 "nbformat": 4,
 "nbformat_minor": 2
}
